{
  "nbformat": 4,
  "nbformat_minor": 0,
  "metadata": {
    "colab": {
      "provenance": []
    },
    "kernelspec": {
      "name": "python3",
      "display_name": "Python 3"
    },
    "language_info": {
      "name": "python"
    },
    "gpuClass": "standard"
  },
  "cells": [
    {
      "cell_type": "markdown",
      "source": [
        "# Install doctl\n"
      ],
      "metadata": {
        "id": "xheAA5psLmag"
      }
    },
    {
      "cell_type": "code",
      "execution_count": 1,
      "metadata": {
        "colab": {
          "base_uri": "https://localhost:8080/"
        },
        "id": "Ejk6X8p9IIsj",
        "outputId": "e646aba3-5630-4131-c09d-6c89e548e987"
      },
      "outputs": [
        {
          "output_type": "stream",
          "name": "stdout",
          "text": [
            "doctl\n"
          ]
        }
      ],
      "source": [
        "!curl -sL https://github.com/digitalocean/doctl/releases/download/v1.76.0/doctl-1.76.0-linux-amd64.tar.gz | tar -xzv"
      ]
    },
    {
      "cell_type": "code",
      "source": [
        "!sudo mv doctl /usr/local/bin"
      ],
      "metadata": {
        "id": "_EutiV-6I5oa"
      },
      "execution_count": 2,
      "outputs": []
    },
    {
      "cell_type": "markdown",
      "source": [
        "# Authenticate to digitalocean using doctl"
      ],
      "metadata": {
        "id": "Q_p4vUvlLrao"
      }
    },
    {
      "cell_type": "code",
      "source": [
        "!doctl auth init –-context function"
      ],
      "metadata": {
        "colab": {
          "base_uri": "https://localhost:8080/"
        },
        "id": "eRJUM59uIT9B",
        "outputId": "d4f059ad-bda3-45c2-96e3-409a078552e9"
      },
      "execution_count": 3,
      "outputs": [
        {
          "output_type": "stream",
          "name": "stdout",
          "text": [
            "Please authenticate doctl for use with your DigitalOcean account. You can generate a token in the control panel at https://cloud.digitalocean.com/account/api/tokens\n",
            "\n",
            "Enter your access token: \n",
            "Validating token... OK\n",
            "\n"
          ]
        }
      ]
    },
    {
      "cell_type": "markdown",
      "source": [
        "# Install serverless in doctl, so we can make functions"
      ],
      "metadata": {
        "id": "yNvjtHBXL-HH"
      }
    },
    {
      "cell_type": "code",
      "source": [
        "!doctl serverless install"
      ],
      "metadata": {
        "colab": {
          "base_uri": "https://localhost:8080/"
        },
        "id": "bD14Y4RlIfBl",
        "outputId": "a93a47a3-5797-4603-9c25-d1cd628e08b1"
      },
      "execution_count": 4,
      "outputs": [
        {
          "output_type": "stream",
          "name": "stdout",
          "text": [
            "Downloading...Unpacking...Installing...Cleaning up...\n",
            "Done\n"
          ]
        }
      ]
    },
    {
      "cell_type": "markdown",
      "source": [
        "Create a directory to work in"
      ],
      "metadata": {
        "id": "OUj9e8xVMKkW"
      }
    },
    {
      "cell_type": "code",
      "source": [
        "!unzip faas.zip"
      ],
      "metadata": {
        "id": "cVRUO8tbJO3l",
        "outputId": "46ee7670-fa9a-4f31-9ca2-626be3c545ef",
        "colab": {
          "base_uri": "https://localhost:8080/"
        }
      },
      "execution_count": 5,
      "outputs": [
        {
          "output_type": "stream",
          "name": "stdout",
          "text": [
            "Archive:  faas.zip\n",
            "   creating: faas/\n",
            "   creating: faas/.do/\n",
            "  inflating: faas/.do/deploy.template.yaml  \n",
            "   creating: faas/packages/\n",
            "   creating: faas/packages/speech-to-text/\n",
            "   creating: faas/packages/speech-to-text/speech-to-text/\n",
            "  inflating: faas/packages/speech-to-text/speech-to-text/build.sh  \n",
            "  inflating: faas/packages/speech-to-text/speech-to-text/requirements.txt  \n",
            "  inflating: faas/packages/speech-to-text/speech-to-text/__main__.py  \n",
            "  inflating: faas/project.yml        \n",
            "  inflating: faas/sort.py            \n"
          ]
        }
      ]
    },
    {
      "cell_type": "code",
      "source": [
        "%cd faas"
      ],
      "metadata": {
        "colab": {
          "base_uri": "https://localhost:8080/"
        },
        "id": "BhoGd1uaJW2I",
        "outputId": "34be05c9-0db9-45a4-d646-a3e4e236d959"
      },
      "execution_count": 7,
      "outputs": [
        {
          "output_type": "stream",
          "name": "stdout",
          "text": [
            "/content/faas\n"
          ]
        }
      ]
    },
    {
      "cell_type": "code",
      "source": [
        "!pwd"
      ],
      "metadata": {
        "colab": {
          "base_uri": "https://localhost:8080/"
        },
        "id": "SwNOnIpoJdDQ",
        "outputId": "08822fcf-b2d0-4e13-fc1f-1b77cc0a9358"
      },
      "execution_count": 8,
      "outputs": [
        {
          "output_type": "stream",
          "name": "stdout",
          "text": [
            "/content/faas\n"
          ]
        }
      ]
    },
    {
      "cell_type": "markdown",
      "source": [
        "# Connect to your digitalocean sandbox"
      ],
      "metadata": {
        "id": "GzlWXPaxMQ0V"
      }
    },
    {
      "cell_type": "code",
      "source": [
        "\n",
        "!doctl sandbox connect"
      ],
      "metadata": {
        "id": "-hniUUlbXH0d",
        "outputId": "51a11529-8ba4-4d31-dff6-b15c2983612c",
        "colab": {
          "base_uri": "https://localhost:8080/"
        }
      },
      "execution_count": 9,
      "outputs": [
        {
          "output_type": "stream",
          "name": "stdout",
          "text": [
            "Connected to function namespace 'fn-6398607d-1b12-4842-8668-ad0c975abdbe' on API host 'https://faas-blr1-8177d592.doserverless.co'\n",
            "\n"
          ]
        }
      ]
    },
    {
      "cell_type": "markdown",
      "source": [
        "# Build and test your digitalocean function"
      ],
      "metadata": {
        "id": "xI9d71q4PFKE"
      }
    },
    {
      "cell_type": "markdown",
      "source": [
        "Build"
      ],
      "metadata": {
        "id": "tLNdEoNePQxs"
      }
    },
    {
      "cell_type": "code",
      "source": [
        "!chmod +x packages/speech-to-text/speech-to-text/build.sh"
      ],
      "metadata": {
        "id": "ATL9a7gNTPJ9"
      },
      "execution_count": 305,
      "outputs": []
    },
    {
      "cell_type": "code",
      "source": [
        "!doctl sandbox deploy . --remote-build"
      ],
      "metadata": {
        "colab": {
          "base_uri": "https://localhost:8080/"
        },
        "id": "nl4Xyf04Lv8Z",
        "outputId": "201e71c8-d9aa-4387-862d-99e0e80e2feb"
      },
      "execution_count": 306,
      "outputs": [
        {
          "output_type": "stream",
          "name": "stdout",
          "text": [
            "Deploying '/content/faas'\n",
            "  to namespace 'fn-6398607d-1b12-4842-8668-ad0c975abdbe'\n",
            "  on host 'https://faas-blr1-8177d592.doserverless.co'\n",
            "Submitted action 'speech-to-text' for remote building and deployment in runtime python:default (id: 62f76c2bfb7f4a8bb76c2bfb7fda8bbd)\n",
            "Processing of 'speech-to-text' is still running remotely ...\n",
            "Processing of 'speech-to-text' is still running remotely ...\n",
            "Processing of 'speech-to-text' is still running remotely ...\n",
            "Processing of 'speech-to-text' is still running remotely ...\n",
            "\n",
            "Deployed functions ('doctl sbx fn get <funcName> --url' for URL):\n",
            "  - speech-to-text/speech-to-text\n"
          ]
        }
      ]
    },
    {
      "cell_type": "code",
      "source": [
        "!doctl serverless status"
      ],
      "metadata": {
        "id": "mCtXpUhwZQa0",
        "outputId": "63aa49e3-b833-404a-fd48-63e4412c96ed",
        "colab": {
          "base_uri": "https://localhost:8080/"
        }
      },
      "execution_count": 307,
      "outputs": [
        {
          "output_type": "stream",
          "name": "stdout",
          "text": [
            "Connected to function namespace 'fn-6398607d-1b12-4842-8668-ad0c975abdbe' on API host 'https://faas-blr1-8177d592.doserverless.co'\n",
            "Sandbox version is 3.1.1-1.2.1\n",
            "\n"
          ]
        }
      ]
    },
    {
      "cell_type": "code",
      "source": [
        "import requests, json\n",
        "import base64\n",
        "import io\n",
        "url = !doctl sbx fn get speech-to-text/speech-to-text --url\n",
        "print(url[0])\n",
        "with io.open('/content/speech2.wav', \"rb\") as audio_file:\n",
        "        file=str(base64.b64encode(audio_file.read())).strip(\"b/\").replace(\"'\", '')\n",
        "y = requests.post(url[0],data={\"lang\":\"en-US\",\"audio\":file})\n"
      ],
      "metadata": {
        "colab": {
          "base_uri": "https://localhost:8080/"
        },
        "id": "wirMgEeJPpeL",
        "outputId": "d43ef5cc-be80-4a0f-8504-5e9fe545d559"
      },
      "execution_count": 308,
      "outputs": [
        {
          "output_type": "stream",
          "name": "stdout",
          "text": [
            "https://faas-blr1-8177d592.doserverless.co/api/v1/web/fn-6398607d-1b12-4842-8668-ad0c975abdbe/speech-to-text/speech-to-text\n"
          ]
        }
      ]
    },
    {
      "cell_type": "code",
      "source": [
        "y.text"
      ],
      "metadata": {
        "colab": {
          "base_uri": "https://localhost:8080/",
          "height": 53
        },
        "id": "lD4xN4_GHAXm",
        "outputId": "b324d901-8565-481c-8406-9613bbf7762f"
      },
      "execution_count": 309,
      "outputs": [
        {
          "output_type": "execute_result",
          "data": {
            "text/plain": [
              "'results {\\n  alternatives {\\n    transcript: \"Buy CDs at 12, dramatic.\"\\n    confidence: 0.802226067\\n  }\\n  result_end_time {\\n    seconds: 1\\n    nanos: 590000000\\n  }\\n  language_code: \"en-us\"\\n}\\ntotal_billed_time {\\n  seconds: 2\\n}\\n'"
            ],
            "application/vnd.google.colaboratory.intrinsic+json": {
              "type": "string"
            }
          },
          "metadata": {},
          "execution_count": 309
        }
      ]
    },
    {
      "cell_type": "code",
      "source": [
        "!zip -r fass_updated.zip faas"
      ],
      "metadata": {
        "colab": {
          "base_uri": "https://localhost:8080/"
        },
        "id": "RRFhMkD2H_6L",
        "outputId": "244ed3c5-4f44-49c7-ac71-6b097228ec88"
      },
      "execution_count": 314,
      "outputs": [
        {
          "output_type": "stream",
          "name": "stdout",
          "text": [
            "  adding: faas/ (stored 0%)\n",
            "  adding: faas/packages/ (stored 0%)\n",
            "  adding: faas/packages/speech-to-text/ (stored 0%)\n",
            "  adding: faas/packages/speech-to-text/speech-to-text/ (stored 0%)\n",
            "  adding: faas/packages/speech-to-text/speech-to-text/__main__.py (deflated 44%)\n",
            "  adding: faas/packages/speech-to-text/speech-to-text/requirements.txt (stored 0%)\n",
            "  adding: faas/packages/speech-to-text/speech-to-text/build.sh (deflated 34%)\n",
            "  adding: faas/packages/speech-to-text/speech-to-text/paramount-371207-4576b089b156.json (deflated 30%)\n",
            "  adding: faas/.do/ (stored 0%)\n",
            "  adding: faas/.do/deploy.template.yaml (deflated 30%)\n",
            "  adding: faas/.ipynb_checkpoints/ (stored 0%)\n",
            "  adding: faas/sort.py (deflated 51%)\n",
            "  adding: faas/project.yml (deflated 32%)\n",
            "  adding: faas/.nimbella/ (stored 0%)\n",
            "  adding: faas/.nimbella/versions.json (deflated 36%)\n"
          ]
        }
      ]
    },
    {
      "cell_type": "code",
      "source": [
        "with open('json_data.json', 'w') as outfile:\n",
        "    json.dump(x, outfile)\n",
        "!cat json_data.json"
      ],
      "metadata": {
        "colab": {
          "base_uri": "https://localhost:8080/"
        },
        "id": "2jOKLUX8djdd",
        "outputId": "f78449c2-97ed-4426-b2d6-5cf5ccbeec1b"
      },
      "execution_count": null,
      "outputs": [
        {
          "output_type": "stream",
          "name": "stdout",
          "text": [
            "{\"0\": \"0.9430294816720703\", \"1\": \"0.9430294816720703\", \"2\": \"0.15083726450822088\", \"3\": \"0.15083726450822088\"}"
          ]
        }
      ]
    },
    {
      "cell_type": "markdown",
      "source": [
        "We can also test directly from the command line"
      ],
      "metadata": {
        "id": "98HpMCJjSwYQ"
      }
    },
    {
      "cell_type": "code",
      "source": [
        "!doctl sls fn invoke sample/hello -P json_data.json"
      ],
      "metadata": {
        "colab": {
          "base_uri": "https://localhost:8080/"
        },
        "id": "EPF3p2AH4PO6",
        "outputId": "dc6d6e97-aed7-4461-996f-b294c5705c7d"
      },
      "execution_count": null,
      "outputs": [
        {
          "output_type": "stream",
          "name": "stdout",
          "text": [
            "{\n",
            "  \"body\": \"2.603903891418075\"\n",
            "}\n"
          ]
        }
      ]
    },
    {
      "cell_type": "code",
      "source": [
        "!doctl sandbox activations logs"
      ],
      "metadata": {
        "colab": {
          "base_uri": "https://localhost:8080/"
        },
        "id": "HG_SQQMCaL9_",
        "outputId": "31085828-1e90-42c5-c065-270868d34e4b"
      },
      "execution_count": null,
      "outputs": [
        {
          "output_type": "stream",
          "name": "stdout",
          "text": [
            "=== af23e79994314edaa3e7999431ceda66 (success) 05/25 13:49:33 hello:0.0.10\n"
          ]
        }
      ]
    },
    {
      "cell_type": "code",
      "source": [],
      "metadata": {
        "id": "0DnA3j0xaZXP"
      },
      "execution_count": null,
      "outputs": []
    }
  ]
}